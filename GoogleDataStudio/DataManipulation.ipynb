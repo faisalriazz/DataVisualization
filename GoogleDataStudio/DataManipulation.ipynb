{
 "cells": [
  {
   "cell_type": "markdown",
   "id": "50d37caf",
   "metadata": {
    "ExecuteTime": {
     "end_time": "2021-04-15T17:37:51.978923Z",
     "start_time": "2021-04-15T17:37:51.907964Z"
    }
   },
   "source": [
    "<h1><b><center>IS652 - Data Exploration and Visualization </center></b></h1>\n",
    "\n",
    "<h2><b><center> Assignment 2 (Northwind Data Exploration and Visualization) </center></b></h2>\n",
    "<h3><b><center> FAISAL RIAZ      [f2019313020@umt.edu.pk]</center></b></h3>"
   ]
  },
  {
   "cell_type": "markdown",
   "id": "d05c9164",
   "metadata": {},
   "source": [
    "## Importing Required Libraries"
   ]
  },
  {
   "cell_type": "code",
   "execution_count": 1,
   "id": "00f81d71",
   "metadata": {
    "ExecuteTime": {
     "end_time": "2021-04-18T18:00:45.567539Z",
     "start_time": "2021-04-18T18:00:33.640226Z"
    }
   },
   "outputs": [],
   "source": [
    "import pandas as pd\n",
    "import numpy as np\n",
    "import matplotlib.pyplot as plt\n",
    "import os\n",
    "import warnings\n",
    "warnings.filterwarnings('ignore')  # \"error\", \"ignore\", \"always\", \"default\", \"module\" or \"once\"\n",
    "%matplotlib inline"
   ]
  },
  {
   "cell_type": "code",
   "execution_count": 2,
   "id": "eb38a38c",
   "metadata": {
    "ExecuteTime": {
     "end_time": "2021-04-18T18:00:45.582953Z",
     "start_time": "2021-04-18T18:00:45.569960Z"
    }
   },
   "outputs": [],
   "source": [
    "pd.set_option(\"display.max_columns\",20)\n",
    "pd.set_option(\"display.precision\",2)"
   ]
  },
  {
   "cell_type": "code",
   "execution_count": 3,
   "id": "fc1049f0",
   "metadata": {
    "ExecuteTime": {
     "end_time": "2021-04-18T18:00:45.709200Z",
     "start_time": "2021-04-18T18:00:45.586947Z"
    }
   },
   "outputs": [],
   "source": [
    "path=r'D:\\UMT_MSDS\\Semester4\\Assignment2'\n",
    "os.chdir(path)"
   ]
  },
  {
   "cell_type": "code",
   "execution_count": 55,
   "id": "f6e5cdf6",
   "metadata": {
    "ExecuteTime": {
     "end_time": "2021-04-18T18:00:46.425664Z",
     "start_time": "2021-04-18T18:00:45.712205Z"
    }
   },
   "outputs": [],
   "source": [
    "#Import Excel File usng pandas and make separate dataframes for required only tables from each tab\n",
    "\n",
    "with pd.ExcelFile('northwind.xls') as xls:\n",
    "    df_Categories = xls.parse('Categories',usecols=['CategoryID','CategoryName'])\n",
    "    df_Employee = xls.parse('Employees',usecols=['EmployeeID','LastName','FirstName'])\n",
    "    df_OrderDetails = xls.parse('Orders Details')\n",
    "    df_Orders = xls.parse('Orders',usecols=['OrderID','CustomerID','EmployeeID','OrderDate','ShipCountry','ShipVia'],parse_dates=True)\n",
    "    df_Product = xls.parse('Product',usecols=['ProductID','ProductName','CategoryID','SupplierID'])\n",
    "    df_Customer = xls.parse('Customers',usecols=['CustomerID','CompanyName','Country'])\n",
    "    df_Shipper = xls.parse('Shippers',usecols=['ShipperID','ShipperName'])\n",
    "    df_Suppliers = xls.parse('Suppliers',usecols=['SupplierID','CompanyName'])"
   ]
  },
  {
   "cell_type": "code",
   "execution_count": 56,
   "id": "5163522a",
   "metadata": {
    "ExecuteTime": {
     "end_time": "2021-04-18T18:00:46.830702Z",
     "start_time": "2021-04-18T18:00:46.662063Z"
    }
   },
   "outputs": [],
   "source": [
    "# Concatinating First Name and Last Name to Create new column/attribute EmployeeName and dropping others.\n",
    "df_Employee['EmployeeName']=df_Employee['FirstName'].str.cat(df_Employee['LastName'],sep=\" \")\n",
    "df_Employee.drop(['FirstName','LastName'],axis=1,inplace=True)\n",
    "df_Customer.rename(columns={'CompanyName':'CustomerCompany','Country':'CustomerCountry'},inplace=True)"
   ]
  },
  {
   "cell_type": "code",
   "execution_count": 57,
   "metadata": {},
   "outputs": [
    {
     "output_type": "execute_result",
     "data": {
      "text/plain": [
       "   CustomerID                     CustomerCompany CustomerCountry\n",
       "0       ALFKI                 Alfreds Futterkiste         Germany\n",
       "1       ANATR  Ana Trujillo Emparedados y helados          Mexico\n",
       "2       ANTON             Antonio Moreno Taquería          Mexico\n",
       "3       AROUT                     Around the Horn              UK\n",
       "4       BERGS                  Berglunds snabbköp          Sweden\n",
       "..        ...                                 ...             ...\n",
       "86      WARTH                      Wartian Herkku         Finland\n",
       "87      WELLI              Wellington Importadora          Brazil\n",
       "88      WHITC                White Clover Markets             USA\n",
       "89      WILMK                         Wilman Kala         Finland\n",
       "90      WOLZA                      Wolski  Zajazd          Poland\n",
       "\n",
       "[91 rows x 3 columns]"
      ],
      "text/html": "<div>\n<style scoped>\n    .dataframe tbody tr th:only-of-type {\n        vertical-align: middle;\n    }\n\n    .dataframe tbody tr th {\n        vertical-align: top;\n    }\n\n    .dataframe thead th {\n        text-align: right;\n    }\n</style>\n<table border=\"1\" class=\"dataframe\">\n  <thead>\n    <tr style=\"text-align: right;\">\n      <th></th>\n      <th>CustomerID</th>\n      <th>CustomerCompany</th>\n      <th>CustomerCountry</th>\n    </tr>\n  </thead>\n  <tbody>\n    <tr>\n      <th>0</th>\n      <td>ALFKI</td>\n      <td>Alfreds Futterkiste</td>\n      <td>Germany</td>\n    </tr>\n    <tr>\n      <th>1</th>\n      <td>ANATR</td>\n      <td>Ana Trujillo Emparedados y helados</td>\n      <td>Mexico</td>\n    </tr>\n    <tr>\n      <th>2</th>\n      <td>ANTON</td>\n      <td>Antonio Moreno Taquería</td>\n      <td>Mexico</td>\n    </tr>\n    <tr>\n      <th>3</th>\n      <td>AROUT</td>\n      <td>Around the Horn</td>\n      <td>UK</td>\n    </tr>\n    <tr>\n      <th>4</th>\n      <td>BERGS</td>\n      <td>Berglunds snabbköp</td>\n      <td>Sweden</td>\n    </tr>\n    <tr>\n      <th>...</th>\n      <td>...</td>\n      <td>...</td>\n      <td>...</td>\n    </tr>\n    <tr>\n      <th>86</th>\n      <td>WARTH</td>\n      <td>Wartian Herkku</td>\n      <td>Finland</td>\n    </tr>\n    <tr>\n      <th>87</th>\n      <td>WELLI</td>\n      <td>Wellington Importadora</td>\n      <td>Brazil</td>\n    </tr>\n    <tr>\n      <th>88</th>\n      <td>WHITC</td>\n      <td>White Clover Markets</td>\n      <td>USA</td>\n    </tr>\n    <tr>\n      <th>89</th>\n      <td>WILMK</td>\n      <td>Wilman Kala</td>\n      <td>Finland</td>\n    </tr>\n    <tr>\n      <th>90</th>\n      <td>WOLZA</td>\n      <td>Wolski  Zajazd</td>\n      <td>Poland</td>\n    </tr>\n  </tbody>\n</table>\n<p>91 rows × 3 columns</p>\n</div>"
     },
     "metadata": {},
     "execution_count": 57
    }
   ],
   "source": [
    "df_Customer\n"
   ]
  },
  {
   "cell_type": "markdown",
   "id": "113f3f94",
   "metadata": {},
   "source": [
    "## Creating one main dataframe to answer all questions"
   ]
  },
  {
   "cell_type": "code",
   "execution_count": 58,
   "metadata": {},
   "outputs": [],
   "source": [
    "df=pd.merge(df_Orders,df_Employee,how='left',left_on='EmployeeID',right_on='EmployeeID')\n",
    "df_Emp_Order=pd.merge(df,df_OrderDetails,how='left',left_on='OrderID',right_on='OrderID')\n",
    "df_Emp_Order['OrderYear'] = pd.DatetimeIndex(df_Emp_Order['OrderDate']).year\n",
    "df_Emp_Order['OrderMonth'] = pd.DatetimeIndex(df_Emp_Order['OrderDate']).month\n",
    "\n"
   ]
  },
  {
   "cell_type": "code",
   "execution_count": 50,
   "metadata": {},
   "outputs": [
    {
     "output_type": "execute_result",
     "data": {
      "text/plain": [
       "Index(['OrderID', 'CustomerID', 'EmployeeID', 'OrderDate', 'ShipVia',\n",
       "       'ShipCountry', 'EmployeeName', 'ProductID', 'UnitPrice', 'Quantity',\n",
       "       'Discount', 'OrderYear', 'OrderMonth', 'ShipperID', 'ShipperName',\n",
       "       'CustomerCompany', 'CustomerCountry'],\n",
       "      dtype='object')"
      ]
     },
     "metadata": {},
     "execution_count": 50
    }
   ],
   "source": [
    "df_Emp_Order_Ship = pd.merge(df_Emp_Order,df_Shipper,how='left',left_on='ShipVia',right_on='ShipperID')\n",
    "df_EMP_Order_Ship_Cust = pd.merge(df_Emp_Order_Ship,df_Customer,how='left',left_on='CustomerID',right_on='CustomerID')\n",
    "df_EMP_Order_Ship_Cust.columns"
   ]
  },
  {
   "cell_type": "code",
   "execution_count": 59,
   "metadata": {},
   "outputs": [
    {
     "output_type": "execute_result",
     "data": {
      "text/plain": [
       "   OrderID CustomerID  EmployeeID  OrderDate  ShipVia ShipCountry  \\\n",
       "0    10248      WILMK           5 1996-07-04        3      France   \n",
       "1    10248      WILMK           5 1996-07-04        3      France   \n",
       "2    10248      WILMK           5 1996-07-04        3      France   \n",
       "3    10249      TRADH           6 1996-07-05        1     Germany   \n",
       "4    10249      TRADH           6 1996-07-05        1     Germany   \n",
       "\n",
       "      EmployeeName  ProductID  UnitPrice  Quantity  Discount  OrderYear  \\\n",
       "0  Steven Buchanan         11       14.0        12       0.0       1996   \n",
       "1  Steven Buchanan         42        9.8        10       0.0       1996   \n",
       "2  Steven Buchanan         72       34.8         5       0.0       1996   \n",
       "3   Michael Suyama         14       18.6         9       0.0       1996   \n",
       "4   Michael Suyama         51       42.4        40       0.0       1996   \n",
       "\n",
       "   OrderMonth  ShipperID       ShipperName         CustomerCompany  \\\n",
       "0           7          3  Federal Shipping             Wilman Kala   \n",
       "1           7          3  Federal Shipping             Wilman Kala   \n",
       "2           7          3  Federal Shipping             Wilman Kala   \n",
       "3           7          1    Speedy Express  Tradição Hipermercados   \n",
       "4           7          1    Speedy Express  Tradição Hipermercados   \n",
       "\n",
       "  CustomerCountry  \n",
       "0         Finland  \n",
       "1         Finland  \n",
       "2         Finland  \n",
       "3          Brazil  \n",
       "4          Brazil  "
      ],
      "text/html": "<div>\n<style scoped>\n    .dataframe tbody tr th:only-of-type {\n        vertical-align: middle;\n    }\n\n    .dataframe tbody tr th {\n        vertical-align: top;\n    }\n\n    .dataframe thead th {\n        text-align: right;\n    }\n</style>\n<table border=\"1\" class=\"dataframe\">\n  <thead>\n    <tr style=\"text-align: right;\">\n      <th></th>\n      <th>OrderID</th>\n      <th>CustomerID</th>\n      <th>EmployeeID</th>\n      <th>OrderDate</th>\n      <th>ShipVia</th>\n      <th>ShipCountry</th>\n      <th>EmployeeName</th>\n      <th>ProductID</th>\n      <th>UnitPrice</th>\n      <th>Quantity</th>\n      <th>Discount</th>\n      <th>OrderYear</th>\n      <th>OrderMonth</th>\n      <th>ShipperID</th>\n      <th>ShipperName</th>\n      <th>CustomerCompany</th>\n      <th>CustomerCountry</th>\n    </tr>\n  </thead>\n  <tbody>\n    <tr>\n      <th>0</th>\n      <td>10248</td>\n      <td>WILMK</td>\n      <td>5</td>\n      <td>1996-07-04</td>\n      <td>3</td>\n      <td>France</td>\n      <td>Steven Buchanan</td>\n      <td>11</td>\n      <td>14.0</td>\n      <td>12</td>\n      <td>0.0</td>\n      <td>1996</td>\n      <td>7</td>\n      <td>3</td>\n      <td>Federal Shipping</td>\n      <td>Wilman Kala</td>\n      <td>Finland</td>\n    </tr>\n    <tr>\n      <th>1</th>\n      <td>10248</td>\n      <td>WILMK</td>\n      <td>5</td>\n      <td>1996-07-04</td>\n      <td>3</td>\n      <td>France</td>\n      <td>Steven Buchanan</td>\n      <td>42</td>\n      <td>9.8</td>\n      <td>10</td>\n      <td>0.0</td>\n      <td>1996</td>\n      <td>7</td>\n      <td>3</td>\n      <td>Federal Shipping</td>\n      <td>Wilman Kala</td>\n      <td>Finland</td>\n    </tr>\n    <tr>\n      <th>2</th>\n      <td>10248</td>\n      <td>WILMK</td>\n      <td>5</td>\n      <td>1996-07-04</td>\n      <td>3</td>\n      <td>France</td>\n      <td>Steven Buchanan</td>\n      <td>72</td>\n      <td>34.8</td>\n      <td>5</td>\n      <td>0.0</td>\n      <td>1996</td>\n      <td>7</td>\n      <td>3</td>\n      <td>Federal Shipping</td>\n      <td>Wilman Kala</td>\n      <td>Finland</td>\n    </tr>\n    <tr>\n      <th>3</th>\n      <td>10249</td>\n      <td>TRADH</td>\n      <td>6</td>\n      <td>1996-07-05</td>\n      <td>1</td>\n      <td>Germany</td>\n      <td>Michael Suyama</td>\n      <td>14</td>\n      <td>18.6</td>\n      <td>9</td>\n      <td>0.0</td>\n      <td>1996</td>\n      <td>7</td>\n      <td>1</td>\n      <td>Speedy Express</td>\n      <td>Tradição Hipermercados</td>\n      <td>Brazil</td>\n    </tr>\n    <tr>\n      <th>4</th>\n      <td>10249</td>\n      <td>TRADH</td>\n      <td>6</td>\n      <td>1996-07-05</td>\n      <td>1</td>\n      <td>Germany</td>\n      <td>Michael Suyama</td>\n      <td>51</td>\n      <td>42.4</td>\n      <td>40</td>\n      <td>0.0</td>\n      <td>1996</td>\n      <td>7</td>\n      <td>1</td>\n      <td>Speedy Express</td>\n      <td>Tradição Hipermercados</td>\n      <td>Brazil</td>\n    </tr>\n  </tbody>\n</table>\n</div>"
     },
     "metadata": {},
     "execution_count": 59
    }
   ],
   "source": [
    "df_EMP_Order_Ship_Cust.head()"
   ]
  },
  {
   "cell_type": "code",
   "execution_count": 60,
   "metadata": {},
   "outputs": [],
   "source": [
    "df_EMP_Order_Ship_Cust.sort_values(['OrderDate','OrderYear','OrderMonth'],ascending=[True,True,True])\n",
    "df_EMP_Order_Ship_Cust.to_csv('./Table_EODSC.csv',index=False)"
   ]
  },
  {
   "cell_type": "code",
   "execution_count": 61,
   "metadata": {},
   "outputs": [
    {
     "output_type": "execute_result",
     "data": {
      "text/plain": [
       "   ProductID                   ProductName  SupplierID  CategoryID  \\\n",
       "0          1                          Chai           1           1   \n",
       "1          2                         Chang           1           1   \n",
       "2          3                 Aniseed Syrup           1           2   \n",
       "3          4  Chef Anton's Cajun Seasoning           2           2   \n",
       "4          5        Chef Anton's Gumbo Mix           2           2   \n",
       "\n",
       "                  CompanyName CategoryName  \n",
       "0              Exotic Liquids    Beverages  \n",
       "1              Exotic Liquids    Beverages  \n",
       "2              Exotic Liquids   Condiments  \n",
       "3  New Orleans Cajun Delights   Condiments  \n",
       "4  New Orleans Cajun Delights   Condiments  "
      ],
      "text/html": "<div>\n<style scoped>\n    .dataframe tbody tr th:only-of-type {\n        vertical-align: middle;\n    }\n\n    .dataframe tbody tr th {\n        vertical-align: top;\n    }\n\n    .dataframe thead th {\n        text-align: right;\n    }\n</style>\n<table border=\"1\" class=\"dataframe\">\n  <thead>\n    <tr style=\"text-align: right;\">\n      <th></th>\n      <th>ProductID</th>\n      <th>ProductName</th>\n      <th>SupplierID</th>\n      <th>CategoryID</th>\n      <th>CompanyName</th>\n      <th>CategoryName</th>\n    </tr>\n  </thead>\n  <tbody>\n    <tr>\n      <th>0</th>\n      <td>1</td>\n      <td>Chai</td>\n      <td>1</td>\n      <td>1</td>\n      <td>Exotic Liquids</td>\n      <td>Beverages</td>\n    </tr>\n    <tr>\n      <th>1</th>\n      <td>2</td>\n      <td>Chang</td>\n      <td>1</td>\n      <td>1</td>\n      <td>Exotic Liquids</td>\n      <td>Beverages</td>\n    </tr>\n    <tr>\n      <th>2</th>\n      <td>3</td>\n      <td>Aniseed Syrup</td>\n      <td>1</td>\n      <td>2</td>\n      <td>Exotic Liquids</td>\n      <td>Condiments</td>\n    </tr>\n    <tr>\n      <th>3</th>\n      <td>4</td>\n      <td>Chef Anton's Cajun Seasoning</td>\n      <td>2</td>\n      <td>2</td>\n      <td>New Orleans Cajun Delights</td>\n      <td>Condiments</td>\n    </tr>\n    <tr>\n      <th>4</th>\n      <td>5</td>\n      <td>Chef Anton's Gumbo Mix</td>\n      <td>2</td>\n      <td>2</td>\n      <td>New Orleans Cajun Delights</td>\n      <td>Condiments</td>\n    </tr>\n  </tbody>\n</table>\n</div>"
     },
     "metadata": {},
     "execution_count": 61
    }
   ],
   "source": [
    "df_Product_Supplier = pd.merge(df_Product,df_Suppliers,how='left',left_on='SupplierID',right_on='SupplierID')\n",
    "df_Prod_Suplr_Cat = pd.merge(df_Product_Supplier,df_Categories,how='left',left_on='CategoryID',right_on='CategoryID')\n",
    "df_Prod_Suplr_Cat.head()"
   ]
  },
  {
   "cell_type": "code",
   "execution_count": 53,
   "metadata": {},
   "outputs": [],
   "source": [
    "df_Prod_Suplr_Cat.to_csv('./Table_PSC.csv',index=False)"
   ]
  },
  {
   "cell_type": "code",
   "execution_count": 63,
   "metadata": {},
   "outputs": [
    {
     "output_type": "execute_result",
     "data": {
      "text/plain": [
       "Index(['OrderID', 'CustomerID', 'EmployeeID', 'OrderDate', 'ShipVia',\n",
       "       'ShipCountry', 'EmployeeName', 'ProductID', 'UnitPrice', 'Quantity',\n",
       "       'Discount', 'OrderYear', 'OrderMonth', 'ShipperID', 'ShipperName',\n",
       "       'CustomerCompany', 'CustomerCountry'],\n",
       "      dtype='object')"
      ]
     },
     "metadata": {},
     "execution_count": 63
    }
   ],
   "source": [
    "df_EMP_Order_Ship_Cust.columns\n"
   ]
  },
  {
   "source": [
    "# rolling Difference"
   ],
   "cell_type": "markdown",
   "metadata": {}
  },
  {
   "cell_type": "code",
   "execution_count": null,
   "metadata": {},
   "outputs": [],
   "source": [
    "x = pd.DataFrame({\n",
    "    'x_1': [0, 1, 2, 3, 0, 1, 2, 500, ],},\n",
    "    index=[0, 1, 2, 3, 4, 5, 6, 7])\n",
    "\n",
    "x['x_1'].rolling(window=2).apply(lambda x: x.iloc[1] - x.iloc[0])"
   ]
  },
  {
   "cell_type": "code",
   "execution_count": null,
   "metadata": {},
   "outputs": [],
   "source": [
    "df_Customer.columns"
   ]
  },
  {
   "cell_type": "code",
   "execution_count": null,
   "id": "558a0732",
   "metadata": {
    "ExecuteTime": {
     "end_time": "2021-04-18T18:00:47.491915Z",
     "start_time": "2021-04-18T18:00:46.996934Z"
    }
   },
   "outputs": [],
   "source": [
    "# Merging Orders and Order details on key = OrderID\n",
    "df = pd.merge(df_Orders,df_OrderDetails,how='left',left_on=['OrderID'],right_on=['OrderID'])\n",
    "# Merging Product on key = ProductID\n",
    "df = pd.merge(df,df_Product,how='left',left_on=['ProductID'],right_on=['ProductID'])\n",
    "# Merging Categories on key = CategoryID\n",
    "df = pd.merge(df,df_Categories,how='left',left_on=['CategoryID'],right_on=['CategoryID'])\n",
    "# Merging Employee  on key = Employee ID\n",
    "df = pd.merge(df,df_Employee,how='left',left_on=['EmployeeID'],right_on=['EmployeeID'])\n",
    "# dropping redundant columns\n",
    "df.drop(['EmployeeID','CategoryID','ProductID'],axis=1,inplace=True)\n",
    "# Extracting month from order date\n",
    "df['OrderMonth'] = pd.DatetimeIndex(df['OrderDate']).month\n",
    "# Caluctating the sale for each orderID\n",
    "df['Sale']=df['UnitPrice']* df['Quantity'] \n",
    "# Calculating actual sale after discount\n",
    "df['ActualSale']=df['Sale'] - (df['Sale']*df['Discount']) \n",
    "# Calculating actual discount on sale\n",
    "df['ActualDiscount']=(df['Sale'])*(df['Discount'])\n",
    "df.head(10)"
   ]
  },
  {
   "cell_type": "code",
   "execution_count": null,
   "id": "0713cfb4",
   "metadata": {
    "ExecuteTime": {
     "end_time": "2021-04-18T18:00:47.507905Z",
     "start_time": "2021-04-18T18:00:47.494913Z"
    }
   },
   "outputs": [],
   "source": [
    "# missing values confirmation\n",
    "df.isna().sum()"
   ]
  },
  {
   "cell_type": "markdown",
   "id": "a419ab83",
   "metadata": {
    "ExecuteTime": {
     "end_time": "2021-04-15T19:23:44.433504Z",
     "start_time": "2021-04-15T19:23:44.417516Z"
    }
   },
   "source": [
    "## Question no 01:\n",
    "### 1. Sales per Category: Result in Table and Pie Chart."
   ]
  },
  {
   "cell_type": "markdown",
   "id": "a74dad9b",
   "metadata": {},
   "source": [
    "### Filtered DataFrame for all the months in Year 1997."
   ]
  },
  {
   "cell_type": "code",
   "execution_count": null,
   "id": "517a37b0",
   "metadata": {
    "ExecuteTime": {
     "end_time": "2021-04-18T18:00:47.680206Z",
     "start_time": "2021-04-18T18:00:47.510903Z"
    }
   },
   "outputs": [],
   "source": [
    "# filtered dataframe for year 1997\n",
    "df_1997 = df[(df['OrderDate']>='1997-01-01') & (df['OrderDate']<= '1997-12-31')]"
   ]
  },
  {
   "cell_type": "code",
   "execution_count": null,
   "id": "e22c659b",
   "metadata": {
    "ExecuteTime": {
     "end_time": "2021-04-18T18:00:47.805666Z",
     "start_time": "2021-04-18T18:00:47.682198Z"
    }
   },
   "outputs": [],
   "source": [
    "df_q1 = df[['CategoryName','ActualSale']]\n",
    "df_q1=df_q1.groupby(['CategoryName']).sum()\n",
    "df_q1"
   ]
  },
  {
   "cell_type": "code",
   "execution_count": null,
   "id": "4184953e",
   "metadata": {
    "ExecuteTime": {
     "end_time": "2021-04-18T18:00:48.964779Z",
     "start_time": "2021-04-18T18:00:47.808662Z"
    }
   },
   "outputs": [],
   "source": [
    "# Pie plot using pandas, percentage of sales per category\n",
    "df_q1.plot.pie(y='ActualSale', figsize=(14, 10),colormap = 'tab10', autopct='%1.2f%%',fontsize=18,startangle=160)\n",
    "plt.title('Sales per Category',fontsize=24)\n",
    "plt.legend(loc= 'upper right')\n",
    "plt.tight_layout()\n",
    "plt.show()"
   ]
  },
  {
   "cell_type": "markdown",
   "id": "a008549d",
   "metadata": {},
   "source": [
    "## Question no. 02\n",
    "### 2. Sales per customer country and category: Result in Table and Clustered horizontal bar chart. Line plot on secondary Y-axis with total sales per country of all categories."
   ]
  },
  {
   "cell_type": "code",
   "execution_count": null,
   "id": "670b9b09",
   "metadata": {
    "ExecuteTime": {
     "end_time": "2021-04-18T18:00:48.996762Z",
     "start_time": "2021-04-18T18:00:48.967779Z"
    }
   },
   "outputs": [],
   "source": [
    "# Selecting Sales per customer country per category from main dataframe\n",
    "Sales_per_country_category = df[['ShipCountry','CategoryName','ActualSale']]\n",
    "Sales_per_country_category.head(10)"
   ]
  },
  {
   "cell_type": "code",
   "execution_count": null,
   "id": "12d2e70e",
   "metadata": {
    "ExecuteTime": {
     "end_time": "2021-04-18T18:00:49.622413Z",
     "start_time": "2021-04-18T18:00:49.000757Z"
    }
   },
   "outputs": [],
   "source": [
    "# Sales per country per category\n",
    "df_q2=pd.pivot_table(df, values='ActualSale',index=['ShipCountry'],columns='CategoryName')\n",
    "df_q2.replace(np.nan, 0)"
   ]
  },
  {
   "cell_type": "code",
   "execution_count": null,
   "id": "7d23f272",
   "metadata": {
    "ExecuteTime": {
     "end_time": "2021-04-18T18:00:50.789491Z",
     "start_time": "2021-04-18T18:00:49.626411Z"
    }
   },
   "outputs": [],
   "source": [
    "# Sales per category per country with total sales per country on secondary axis\n",
    "plt.style.use('fivethirtyeight')\n",
    "ax=df_q2.plot(kind='bar',figsize=(14,10),fontsize=18)\n",
    "Sales_per_country_category.groupby(['ShipCountry']).sum().plot(kind='line',secondary_y=True,rot =90, ax = ax)\n",
    "plt.title('Sales per Customer Country per Category Clustered with total sales per country')\n",
    "plt.xlabel('Customer Country')\n",
    "plt.ylabel('Total Sales per Country')\n",
    "ax.set_ylabel('Sales per category per Country')\n",
    "plt.legend(loc='best')\n",
    "plt.tight_layout()\n",
    "plt.show()"
   ]
  },
  {
   "cell_type": "markdown",
   "id": "e81bf57b",
   "metadata": {},
   "source": [
    "## Question no. 03\n",
    "### 3.  Sales per Category in each month of year 1997. Result in Table and Staked bar chart."
   ]
  },
  {
   "cell_type": "code",
   "execution_count": null,
   "id": "b1133779",
   "metadata": {
    "ExecuteTime": {
     "end_time": "2021-04-18T18:00:50.852816Z",
     "start_time": "2021-04-18T18:00:50.792489Z"
    }
   },
   "outputs": [],
   "source": [
    "# Sales per category in each month of 1997 using filtered dataframe\n",
    "df_q3=pd.pivot_table(df_1997, values='ActualSale',index=['OrderMonth'],columns='CategoryName')\n",
    "df_q3.head(12)"
   ]
  },
  {
   "cell_type": "code",
   "execution_count": null,
   "id": "8b588981",
   "metadata": {
    "ExecuteTime": {
     "end_time": "2021-04-18T18:00:51.637520Z",
     "start_time": "2021-04-18T18:00:50.854820Z"
    },
    "scrolled": false
   },
   "outputs": [],
   "source": [
    "# sales per category in each month of 1997 stacked for each category\n",
    "df_q3.plot(kind='bar',figsize=(14,10),fontsize=18,stacked=True , colormap ='tab10')\n",
    "plt.title('Sales per Category in each month of 1997',fontsize=24)\n",
    "plt.xlabel('Month',fontsize=24)\n",
    "plt.ylabel('Monthly Sales per category',fontsize=24)\n",
    "plt.legend(loc='best')\n",
    "plt.tight_layout()\n",
    "plt.show()"
   ]
  },
  {
   "cell_type": "markdown",
   "id": "def5eba5",
   "metadata": {},
   "source": [
    "## Question no. 04\n",
    "### 4.  Discounts per Category in each month of year 1997. Result in Table and Area Chart."
   ]
  },
  {
   "cell_type": "code",
   "execution_count": null,
   "id": "0efbd943",
   "metadata": {
    "ExecuteTime": {
     "end_time": "2021-04-18T18:00:51.699484Z",
     "start_time": "2021-04-18T18:00:51.640519Z"
    }
   },
   "outputs": [],
   "source": [
    "# Discount per category in each month of 1997 using filtered dataframe\n",
    "df_q4=pd.pivot_table(df_1997, values='ActualDiscount',index=['OrderMonth'],columns='CategoryName')\n",
    "df_q4.head(12)"
   ]
  },
  {
   "cell_type": "code",
   "execution_count": null,
   "id": "2debc3c7",
   "metadata": {
    "ExecuteTime": {
     "end_time": "2021-04-18T18:00:52.232963Z",
     "start_time": "2021-04-18T18:00:51.702481Z"
    }
   },
   "outputs": [],
   "source": [
    "df_q4.plot(kind='area',figsize=(14,10),fontsize=18,colormap='tab10')\n",
    "plt.title('Discount per Category in each month of 1997',fontsize=24)\n",
    "plt.xlabel('Month',fontsize=24)\n",
    "plt.ylabel('Monthly Discount per category',fontsize=24)\n",
    "plt.xticks(ticks=[1,2,3,4,5,6,7,8,9,10,11,12])\n",
    "plt.legend(loc='upper right')\n",
    "plt.tight_layout()\n",
    "plt.show()"
   ]
  },
  {
   "cell_type": "markdown",
   "id": "fe83e8d5",
   "metadata": {},
   "source": [
    "## Question no. 05\n",
    "### 5. Sales per Employee in each month of year 1997. Result in Scatter plot."
   ]
  },
  {
   "cell_type": "code",
   "execution_count": null,
   "id": "cac93115",
   "metadata": {
    "ExecuteTime": {
     "end_time": "2021-04-18T18:00:52.310914Z",
     "start_time": "2021-04-18T18:00:52.234962Z"
    }
   },
   "outputs": [],
   "source": [
    "df_q5=pd.pivot_table(df_1997, values='ActualSale',index=['OrderMonth'],columns='EmployeeName')\n",
    "df_q5.replace(np.nan, 0)"
   ]
  },
  {
   "cell_type": "code",
   "execution_count": null,
   "id": "d85e6218",
   "metadata": {
    "ExecuteTime": {
     "end_time": "2021-04-18T18:00:52.829217Z",
     "start_time": "2021-04-18T18:00:52.313917Z"
    }
   },
   "outputs": [],
   "source": [
    "#sale per employee in each month of 1997\n",
    "df_q5.plot(style=\"o\", figsize=(14,10),ms=15, alpha=0.7,colormap = 'tab10',fontsize=18)\n",
    "plt.title('Sales per Employee in each month of 1997',fontsize=24)\n",
    "plt.xlabel('Month',fontsize=24)\n",
    "plt.ylabel('Monthly Sales per Employee',fontsize=24)\n",
    "plt.legend(loc='best')\n",
    "plt.xticks(ticks=[1,2,3,4,5,6,7,8,9,10,11,12])\n",
    "plt.yticks(ticks=list(range(0,2400,200)))\n",
    "plt.legend(loc='upper right')\n",
    "plt.tight_layout()\n",
    "plt.show()"
   ]
  }
 ],
 "metadata": {
  "kernelspec": {
   "name": "python3710jvsc74a57bd0b3ba2566441a7c06988d0923437866b63cedc61552a5af99d1f4fb67d367b25f",
   "display_name": "Python 3.7.10 64-bit ('base': conda)"
  },
  "language_info": {
   "codemirror_mode": {
    "name": "ipython",
    "version": 3
   },
   "file_extension": ".py",
   "mimetype": "text/x-python",
   "name": "python",
   "nbconvert_exporter": "python",
   "pygments_lexer": "ipython3",
   "version": "3.7.10"
  }
 },
 "nbformat": 4,
 "nbformat_minor": 5
}